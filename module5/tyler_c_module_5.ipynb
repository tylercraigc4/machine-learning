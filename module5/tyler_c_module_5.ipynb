{
  "nbformat": 4,
  "nbformat_minor": 0,
  "metadata": {
    "orig_nbformat": 2,
    "kernelspec": {
      "name": "python3",
      "display_name": "Python 3"
    },
    "colab": {
      "name": "tyler_c_module_5.ipynb",
      "provenance": [],
      "collapsed_sections": []
    },
    "accelerator": "GPU"
  },
  "cells": [
    {
      "cell_type": "code",
      "metadata": {
        "colab": {
          "base_uri": "https://localhost:8080/"
        },
        "id": "cPQAPRldpr8e",
        "outputId": "7255fbde-a47d-4dcd-8581-e5a8fed542ce"
      },
      "source": [
        "! pip install keras-tuner\n",
        "! pip install -q pyyaml h5py"
      ],
      "execution_count": null,
      "outputs": [
        {
          "output_type": "stream",
          "text": [
            "Requirement already satisfied: keras-tuner in /usr/local/lib/python3.6/dist-packages (1.0.2)\n",
            "Requirement already satisfied: future in /usr/local/lib/python3.6/dist-packages (from keras-tuner) (0.16.0)\n",
            "Requirement already satisfied: tabulate in /usr/local/lib/python3.6/dist-packages (from keras-tuner) (0.8.7)\n",
            "Requirement already satisfied: requests in /usr/local/lib/python3.6/dist-packages (from keras-tuner) (2.23.0)\n",
            "Requirement already satisfied: numpy in /usr/local/lib/python3.6/dist-packages (from keras-tuner) (1.18.5)\n",
            "Requirement already satisfied: colorama in /usr/local/lib/python3.6/dist-packages (from keras-tuner) (0.4.4)\n",
            "Requirement already satisfied: tqdm in /usr/local/lib/python3.6/dist-packages (from keras-tuner) (4.41.1)\n",
            "Requirement already satisfied: terminaltables in /usr/local/lib/python3.6/dist-packages (from keras-tuner) (3.1.0)\n",
            "Requirement already satisfied: packaging in /usr/local/lib/python3.6/dist-packages (from keras-tuner) (20.4)\n",
            "Requirement already satisfied: scikit-learn in /usr/local/lib/python3.6/dist-packages (from keras-tuner) (0.22.2.post1)\n",
            "Requirement already satisfied: scipy in /usr/local/lib/python3.6/dist-packages (from keras-tuner) (1.4.1)\n",
            "Requirement already satisfied: idna<3,>=2.5 in /usr/local/lib/python3.6/dist-packages (from requests->keras-tuner) (2.10)\n",
            "Requirement already satisfied: urllib3!=1.25.0,!=1.25.1,<1.26,>=1.21.1 in /usr/local/lib/python3.6/dist-packages (from requests->keras-tuner) (1.24.3)\n",
            "Requirement already satisfied: certifi>=2017.4.17 in /usr/local/lib/python3.6/dist-packages (from requests->keras-tuner) (2020.6.20)\n",
            "Requirement already satisfied: chardet<4,>=3.0.2 in /usr/local/lib/python3.6/dist-packages (from requests->keras-tuner) (3.0.4)\n",
            "Requirement already satisfied: six in /usr/local/lib/python3.6/dist-packages (from packaging->keras-tuner) (1.15.0)\n",
            "Requirement already satisfied: pyparsing>=2.0.2 in /usr/local/lib/python3.6/dist-packages (from packaging->keras-tuner) (2.4.7)\n",
            "Requirement already satisfied: joblib>=0.11 in /usr/local/lib/python3.6/dist-packages (from scikit-learn->keras-tuner) (0.17.0)\n"
          ],
          "name": "stdout"
        }
      ]
    },
    {
      "cell_type": "code",
      "metadata": {
        "id": "zyeBzoftpLC-"
      },
      "source": [
        "import pandas as pd\n",
        "from sklearn.model_selection import train_test_split\n",
        "from sklearn.preprocessing import MinMaxScaler\n",
        "import tensorflow as tf\n",
        "from tensorflow.keras.layers.experimental.preprocessing import Normalization\n",
        "import seaborn as sns\n",
        "import numpy as np\n",
        "import kerastuner as kt\n",
        "from tensorflow.keras.layers import Dense, Activation, Dropout\n",
        "from tensorflow.keras import regularizers\n",
        "import matplotlib.pyplot as plt\n",
        "from google.colab import files"
      ],
      "execution_count": 127,
      "outputs": []
    },
    {
      "cell_type": "code",
      "metadata": {
        "id": "yzvLYWUytBTM"
      },
      "source": [
        "from keras import backend as K\n",
        "def root_mean_squared_error(y_true, y_pred):\n",
        "        return K.sqrt(K.mean(K.square(y_pred - y_true), axis=-1)) \n",
        "\n",
        "np.set_printoptions(precision=3, suppress=True)"
      ],
      "execution_count": 128,
      "outputs": []
    },
    {
      "cell_type": "code",
      "metadata": {
        "id": "S3AawNabpLC-"
      },
      "source": [
        "bike_data = pd.read_csv(\"https://raw.githubusercontent.com/byui-cse/cse450-course/master/data/bikes.csv\")\n"
      ],
      "execution_count": 137,
      "outputs": []
    },
    {
      "cell_type": "code",
      "metadata": {
        "pycharm": {
          "name": "#%%\n"
        },
        "id": "P2ZN-ffWpLC-",
        "colab": {
          "base_uri": "https://localhost:8080/",
          "height": 204
        },
        "outputId": "eb2fe5e7-0dd7-4b56-c19a-e22719d964c6"
      },
      "source": [
        "# clean data\n",
        "bike_data = bike_data.dropna()\n",
        "bike_data.head()"
      ],
      "execution_count": 138,
      "outputs": [
        {
          "output_type": "execute_result",
          "data": {
            "text/html": [
              "<div>\n",
              "<style scoped>\n",
              "    .dataframe tbody tr th:only-of-type {\n",
              "        vertical-align: middle;\n",
              "    }\n",
              "\n",
              "    .dataframe tbody tr th {\n",
              "        vertical-align: top;\n",
              "    }\n",
              "\n",
              "    .dataframe thead th {\n",
              "        text-align: right;\n",
              "    }\n",
              "</style>\n",
              "<table border=\"1\" class=\"dataframe\">\n",
              "  <thead>\n",
              "    <tr style=\"text-align: right;\">\n",
              "      <th></th>\n",
              "      <th>Unnamed: 0</th>\n",
              "      <th>instant</th>\n",
              "      <th>dteday</th>\n",
              "      <th>season</th>\n",
              "      <th>hr</th>\n",
              "      <th>holiday</th>\n",
              "      <th>workingday</th>\n",
              "      <th>weathersit</th>\n",
              "      <th>hum</th>\n",
              "      <th>windspeed</th>\n",
              "      <th>temp_c</th>\n",
              "      <th>feels_like_c</th>\n",
              "      <th>casual</th>\n",
              "      <th>registered</th>\n",
              "    </tr>\n",
              "  </thead>\n",
              "  <tbody>\n",
              "    <tr>\n",
              "      <th>0</th>\n",
              "      <td>0</td>\n",
              "      <td>1</td>\n",
              "      <td>1/1/11</td>\n",
              "      <td>1</td>\n",
              "      <td>0</td>\n",
              "      <td>0</td>\n",
              "      <td>0</td>\n",
              "      <td>1</td>\n",
              "      <td>0.81</td>\n",
              "      <td>0</td>\n",
              "      <td>3.28</td>\n",
              "      <td>3.0014</td>\n",
              "      <td>3</td>\n",
              "      <td>13</td>\n",
              "    </tr>\n",
              "    <tr>\n",
              "      <th>1</th>\n",
              "      <td>1</td>\n",
              "      <td>2</td>\n",
              "      <td>1/1/11</td>\n",
              "      <td>1</td>\n",
              "      <td>1</td>\n",
              "      <td>0</td>\n",
              "      <td>0</td>\n",
              "      <td>1</td>\n",
              "      <td>0.80</td>\n",
              "      <td>0</td>\n",
              "      <td>2.34</td>\n",
              "      <td>1.9982</td>\n",
              "      <td>8</td>\n",
              "      <td>32</td>\n",
              "    </tr>\n",
              "    <tr>\n",
              "      <th>2</th>\n",
              "      <td>2</td>\n",
              "      <td>3</td>\n",
              "      <td>1/1/11</td>\n",
              "      <td>1</td>\n",
              "      <td>2</td>\n",
              "      <td>0</td>\n",
              "      <td>0</td>\n",
              "      <td>1</td>\n",
              "      <td>0.80</td>\n",
              "      <td>0</td>\n",
              "      <td>2.34</td>\n",
              "      <td>1.9982</td>\n",
              "      <td>5</td>\n",
              "      <td>27</td>\n",
              "    </tr>\n",
              "    <tr>\n",
              "      <th>3</th>\n",
              "      <td>3</td>\n",
              "      <td>4</td>\n",
              "      <td>1/1/11</td>\n",
              "      <td>1</td>\n",
              "      <td>3</td>\n",
              "      <td>0</td>\n",
              "      <td>0</td>\n",
              "      <td>1</td>\n",
              "      <td>0.75</td>\n",
              "      <td>0</td>\n",
              "      <td>3.28</td>\n",
              "      <td>3.0014</td>\n",
              "      <td>3</td>\n",
              "      <td>10</td>\n",
              "    </tr>\n",
              "    <tr>\n",
              "      <th>4</th>\n",
              "      <td>4</td>\n",
              "      <td>5</td>\n",
              "      <td>1/1/11</td>\n",
              "      <td>1</td>\n",
              "      <td>4</td>\n",
              "      <td>0</td>\n",
              "      <td>0</td>\n",
              "      <td>1</td>\n",
              "      <td>0.75</td>\n",
              "      <td>0</td>\n",
              "      <td>3.28</td>\n",
              "      <td>3.0014</td>\n",
              "      <td>0</td>\n",
              "      <td>1</td>\n",
              "    </tr>\n",
              "  </tbody>\n",
              "</table>\n",
              "</div>"
            ],
            "text/plain": [
              "   Unnamed: 0  instant  dteday  ...  feels_like_c  casual  registered\n",
              "0           0        1  1/1/11  ...        3.0014       3          13\n",
              "1           1        2  1/1/11  ...        1.9982       8          32\n",
              "2           2        3  1/1/11  ...        1.9982       5          27\n",
              "3           3        4  1/1/11  ...        3.0014       3          10\n",
              "4           4        5  1/1/11  ...        3.0014       0           1\n",
              "\n",
              "[5 rows x 14 columns]"
            ]
          },
          "metadata": {
            "tags": []
          },
          "execution_count": 138
        }
      ]
    },
    {
      "cell_type": "code",
      "metadata": {
        "id": "CkzfULOc50LR",
        "colab": {
          "base_uri": "https://localhost:8080/",
          "height": 204
        },
        "outputId": "b84b879b-2714-4027-a822-5dc825fabef1"
      },
      "source": [
        "# get the features that we want\n",
        "wanted_features = [\"season\", \"hr\", \"holiday\", \"workingday\", \"weathersit\", \"hum\", \"windspeed\", \"temp_c\", \"feels_like_c\", \"registered\", \"casual\"]\n",
        "bike_data = bike_data[wanted_features]\n",
        "\n",
        "# convert season and weathersit to one hot\n",
        "bike_data[\"season\"] = bike_data[\"season\"].map({1:\"winter\", 2:\"spring\", 3:\"summer\", 4:\"fall\"})\n",
        "bike_data[\"weathersit\"] = bike_data[\"weathersit\"].map({1:\"clear_weather\", 2:\"misty_weather\", 3:\"rainy_weather\", 4:\"severe_weather\"})\n",
        "\n",
        "bike_data.head()"
      ],
      "execution_count": 139,
      "outputs": [
        {
          "output_type": "execute_result",
          "data": {
            "text/html": [
              "<div>\n",
              "<style scoped>\n",
              "    .dataframe tbody tr th:only-of-type {\n",
              "        vertical-align: middle;\n",
              "    }\n",
              "\n",
              "    .dataframe tbody tr th {\n",
              "        vertical-align: top;\n",
              "    }\n",
              "\n",
              "    .dataframe thead th {\n",
              "        text-align: right;\n",
              "    }\n",
              "</style>\n",
              "<table border=\"1\" class=\"dataframe\">\n",
              "  <thead>\n",
              "    <tr style=\"text-align: right;\">\n",
              "      <th></th>\n",
              "      <th>season</th>\n",
              "      <th>hr</th>\n",
              "      <th>holiday</th>\n",
              "      <th>workingday</th>\n",
              "      <th>weathersit</th>\n",
              "      <th>hum</th>\n",
              "      <th>windspeed</th>\n",
              "      <th>temp_c</th>\n",
              "      <th>feels_like_c</th>\n",
              "      <th>registered</th>\n",
              "      <th>casual</th>\n",
              "    </tr>\n",
              "  </thead>\n",
              "  <tbody>\n",
              "    <tr>\n",
              "      <th>0</th>\n",
              "      <td>winter</td>\n",
              "      <td>0</td>\n",
              "      <td>0</td>\n",
              "      <td>0</td>\n",
              "      <td>clear_weather</td>\n",
              "      <td>0.81</td>\n",
              "      <td>0</td>\n",
              "      <td>3.28</td>\n",
              "      <td>3.0014</td>\n",
              "      <td>13</td>\n",
              "      <td>3</td>\n",
              "    </tr>\n",
              "    <tr>\n",
              "      <th>1</th>\n",
              "      <td>winter</td>\n",
              "      <td>1</td>\n",
              "      <td>0</td>\n",
              "      <td>0</td>\n",
              "      <td>clear_weather</td>\n",
              "      <td>0.80</td>\n",
              "      <td>0</td>\n",
              "      <td>2.34</td>\n",
              "      <td>1.9982</td>\n",
              "      <td>32</td>\n",
              "      <td>8</td>\n",
              "    </tr>\n",
              "    <tr>\n",
              "      <th>2</th>\n",
              "      <td>winter</td>\n",
              "      <td>2</td>\n",
              "      <td>0</td>\n",
              "      <td>0</td>\n",
              "      <td>clear_weather</td>\n",
              "      <td>0.80</td>\n",
              "      <td>0</td>\n",
              "      <td>2.34</td>\n",
              "      <td>1.9982</td>\n",
              "      <td>27</td>\n",
              "      <td>5</td>\n",
              "    </tr>\n",
              "    <tr>\n",
              "      <th>3</th>\n",
              "      <td>winter</td>\n",
              "      <td>3</td>\n",
              "      <td>0</td>\n",
              "      <td>0</td>\n",
              "      <td>clear_weather</td>\n",
              "      <td>0.75</td>\n",
              "      <td>0</td>\n",
              "      <td>3.28</td>\n",
              "      <td>3.0014</td>\n",
              "      <td>10</td>\n",
              "      <td>3</td>\n",
              "    </tr>\n",
              "    <tr>\n",
              "      <th>4</th>\n",
              "      <td>winter</td>\n",
              "      <td>4</td>\n",
              "      <td>0</td>\n",
              "      <td>0</td>\n",
              "      <td>clear_weather</td>\n",
              "      <td>0.75</td>\n",
              "      <td>0</td>\n",
              "      <td>3.28</td>\n",
              "      <td>3.0014</td>\n",
              "      <td>1</td>\n",
              "      <td>0</td>\n",
              "    </tr>\n",
              "  </tbody>\n",
              "</table>\n",
              "</div>"
            ],
            "text/plain": [
              "   season  hr  holiday  workingday  ... temp_c  feels_like_c  registered  casual\n",
              "0  winter   0        0           0  ...   3.28        3.0014          13       3\n",
              "1  winter   1        0           0  ...   2.34        1.9982          32       8\n",
              "2  winter   2        0           0  ...   2.34        1.9982          27       5\n",
              "3  winter   3        0           0  ...   3.28        3.0014          10       3\n",
              "4  winter   4        0           0  ...   3.28        3.0014           1       0\n",
              "\n",
              "[5 rows x 11 columns]"
            ]
          },
          "metadata": {
            "tags": []
          },
          "execution_count": 139
        }
      ]
    },
    {
      "cell_type": "code",
      "metadata": {
        "id": "oaozPjAakTHV"
      },
      "source": [
        "bike_data = pd.get_dummies(bike_data, prefix='', prefix_sep='').astype(dtype=\"float32\")"
      ],
      "execution_count": null,
      "outputs": []
    },
    {
      "cell_type": "code",
      "metadata": {
        "colab": {
          "base_uri": "https://localhost:8080/",
          "height": 204
        },
        "id": "zBe8aGGIjwtl",
        "outputId": "6564c4d4-d602-448a-d8b7-24f13ba1da9e"
      },
      "source": [
        "bike_data.head()"
      ],
      "execution_count": 136,
      "outputs": [
        {
          "output_type": "execute_result",
          "data": {
            "text/html": [
              "<div>\n",
              "<style scoped>\n",
              "    .dataframe tbody tr th:only-of-type {\n",
              "        vertical-align: middle;\n",
              "    }\n",
              "\n",
              "    .dataframe tbody tr th {\n",
              "        vertical-align: top;\n",
              "    }\n",
              "\n",
              "    .dataframe thead th {\n",
              "        text-align: right;\n",
              "    }\n",
              "</style>\n",
              "<table border=\"1\" class=\"dataframe\">\n",
              "  <thead>\n",
              "    <tr style=\"text-align: right;\">\n",
              "      <th></th>\n",
              "      <th>hr</th>\n",
              "      <th>holiday</th>\n",
              "      <th>workingday</th>\n",
              "      <th>hum</th>\n",
              "      <th>windspeed</th>\n",
              "      <th>temp_c</th>\n",
              "      <th>feels_like_c</th>\n",
              "      <th>registered</th>\n",
              "      <th>casual</th>\n",
              "      <th>fall</th>\n",
              "      <th>spring</th>\n",
              "      <th>summer</th>\n",
              "      <th>winter</th>\n",
              "      <th>clear_weather</th>\n",
              "      <th>misty_weather</th>\n",
              "      <th>rainy_weather</th>\n",
              "      <th>severe_weather</th>\n",
              "    </tr>\n",
              "  </thead>\n",
              "  <tbody>\n",
              "    <tr>\n",
              "      <th>0</th>\n",
              "      <td>0.0</td>\n",
              "      <td>0.0</td>\n",
              "      <td>0.0</td>\n",
              "      <td>0.81</td>\n",
              "      <td>0.0</td>\n",
              "      <td>3.28</td>\n",
              "      <td>3.0014</td>\n",
              "      <td>13.0</td>\n",
              "      <td>3.0</td>\n",
              "      <td>0.0</td>\n",
              "      <td>0.0</td>\n",
              "      <td>0.0</td>\n",
              "      <td>1.0</td>\n",
              "      <td>1.0</td>\n",
              "      <td>0.0</td>\n",
              "      <td>0.0</td>\n",
              "      <td>0.0</td>\n",
              "    </tr>\n",
              "    <tr>\n",
              "      <th>1</th>\n",
              "      <td>1.0</td>\n",
              "      <td>0.0</td>\n",
              "      <td>0.0</td>\n",
              "      <td>0.80</td>\n",
              "      <td>0.0</td>\n",
              "      <td>2.34</td>\n",
              "      <td>1.9982</td>\n",
              "      <td>32.0</td>\n",
              "      <td>8.0</td>\n",
              "      <td>0.0</td>\n",
              "      <td>0.0</td>\n",
              "      <td>0.0</td>\n",
              "      <td>1.0</td>\n",
              "      <td>1.0</td>\n",
              "      <td>0.0</td>\n",
              "      <td>0.0</td>\n",
              "      <td>0.0</td>\n",
              "    </tr>\n",
              "    <tr>\n",
              "      <th>2</th>\n",
              "      <td>2.0</td>\n",
              "      <td>0.0</td>\n",
              "      <td>0.0</td>\n",
              "      <td>0.80</td>\n",
              "      <td>0.0</td>\n",
              "      <td>2.34</td>\n",
              "      <td>1.9982</td>\n",
              "      <td>27.0</td>\n",
              "      <td>5.0</td>\n",
              "      <td>0.0</td>\n",
              "      <td>0.0</td>\n",
              "      <td>0.0</td>\n",
              "      <td>1.0</td>\n",
              "      <td>1.0</td>\n",
              "      <td>0.0</td>\n",
              "      <td>0.0</td>\n",
              "      <td>0.0</td>\n",
              "    </tr>\n",
              "    <tr>\n",
              "      <th>3</th>\n",
              "      <td>3.0</td>\n",
              "      <td>0.0</td>\n",
              "      <td>0.0</td>\n",
              "      <td>0.75</td>\n",
              "      <td>0.0</td>\n",
              "      <td>3.28</td>\n",
              "      <td>3.0014</td>\n",
              "      <td>10.0</td>\n",
              "      <td>3.0</td>\n",
              "      <td>0.0</td>\n",
              "      <td>0.0</td>\n",
              "      <td>0.0</td>\n",
              "      <td>1.0</td>\n",
              "      <td>1.0</td>\n",
              "      <td>0.0</td>\n",
              "      <td>0.0</td>\n",
              "      <td>0.0</td>\n",
              "    </tr>\n",
              "    <tr>\n",
              "      <th>4</th>\n",
              "      <td>4.0</td>\n",
              "      <td>0.0</td>\n",
              "      <td>0.0</td>\n",
              "      <td>0.75</td>\n",
              "      <td>0.0</td>\n",
              "      <td>3.28</td>\n",
              "      <td>3.0014</td>\n",
              "      <td>1.0</td>\n",
              "      <td>0.0</td>\n",
              "      <td>0.0</td>\n",
              "      <td>0.0</td>\n",
              "      <td>0.0</td>\n",
              "      <td>1.0</td>\n",
              "      <td>1.0</td>\n",
              "      <td>0.0</td>\n",
              "      <td>0.0</td>\n",
              "      <td>0.0</td>\n",
              "    </tr>\n",
              "  </tbody>\n",
              "</table>\n",
              "</div>"
            ],
            "text/plain": [
              "    hr  holiday  workingday  ...  misty_weather  rainy_weather  severe_weather\n",
              "0  0.0      0.0         0.0  ...            0.0            0.0             0.0\n",
              "1  1.0      0.0         0.0  ...            0.0            0.0             0.0\n",
              "2  2.0      0.0         0.0  ...            0.0            0.0             0.0\n",
              "3  3.0      0.0         0.0  ...            0.0            0.0             0.0\n",
              "4  4.0      0.0         0.0  ...            0.0            0.0             0.0\n",
              "\n",
              "[5 rows x 17 columns]"
            ]
          },
          "metadata": {
            "tags": []
          },
          "execution_count": 136
        }
      ]
    },
    {
      "cell_type": "markdown",
      "metadata": {
        "id": "D5pvdfmW6jmZ"
      },
      "source": [
        ""
      ]
    },
    {
      "cell_type": "code",
      "metadata": {
        "id": "tDGyPc8mpLC-"
      },
      "source": [
        "# split into training and testing datasets randomly\n",
        "train_dataset = bike_data.sample(frac=0.8, random_state=0)\n",
        "test_dataset = bike_data.drop(train_dataset.index)"
      ],
      "execution_count": null,
      "outputs": []
    },
    {
      "cell_type": "code",
      "metadata": {
        "id": "q2EHrBbrCxLH",
        "colab": {
          "base_uri": "https://localhost:8080/"
        },
        "outputId": "a315754f-cacb-4d8f-e7f7-aedf1339830c"
      },
      "source": [
        "# inspect the data\n",
        "print(train_dataset.describe().transpose())\n",
        "print(\"median registered bikes in a day: {}\".format(train_dataset[\"registered\"].median()))\n",
        "\n"
      ],
      "execution_count": null,
      "outputs": [
        {
          "output_type": "stream",
          "text": [
            "                  count        mean  ...         75%         max\n",
            "hr              13903.0   11.567360  ...   18.000000   23.000000\n",
            "holiday         13903.0    0.028699  ...    0.000000    1.000000\n",
            "workingday      13903.0    0.682299  ...    1.000000    1.000000\n",
            "hum             13903.0    0.628884  ...    0.780000    1.000000\n",
            "windspeed       13903.0   12.732504  ...   17.000000   57.000000\n",
            "temp_c          13903.0   15.346667  ...   23.020000   38.060001\n",
            "feels_like_c    13903.0   15.389220  ...   24.999201   48.996799\n",
            "registered      13903.0  154.440842  ...  221.000000  886.000000\n",
            "casual          13903.0   35.711861  ...   48.000000  367.000000\n",
            "fall            13903.0    0.244480  ...    0.000000    1.000000\n",
            "spring          13903.0    0.254981  ...    1.000000    1.000000\n",
            "summer          13903.0    0.256995  ...    1.000000    1.000000\n",
            "winter          13903.0    0.243545  ...    0.000000    1.000000\n",
            "clear_weather   13903.0    0.653384  ...    1.000000    1.000000\n",
            "misty_weather   13903.0    0.262749  ...    1.000000    1.000000\n",
            "rainy_weather   13903.0    0.083795  ...    0.000000    1.000000\n",
            "severe_weather  13903.0    0.000072  ...    0.000000    1.000000\n",
            "\n",
            "[17 rows x 8 columns]\n",
            "median registered bikes in a day: 116.0\n"
          ],
          "name": "stdout"
        }
      ]
    },
    {
      "cell_type": "code",
      "metadata": {
        "colab": {
          "base_uri": "https://localhost:8080/",
          "height": 297
        },
        "id": "p2mwx4VXPJTY",
        "outputId": "ee7d1f7b-e572-4faf-e91b-5ff7aaf14087"
      },
      "source": [
        "# plot some data\n",
        "sns.scatterplot(data=train_dataset.sample(frac=0.01, random_state=1), x=\"temp_c\", y=\"registered\")\n"
      ],
      "execution_count": 98,
      "outputs": [
        {
          "output_type": "execute_result",
          "data": {
            "text/plain": [
              "<matplotlib.axes._subplots.AxesSubplot at 0x7f6e8197f908>"
            ]
          },
          "metadata": {
            "tags": []
          },
          "execution_count": 98
        },
        {
          "output_type": "display_data",
          "data": {
            "image/png": "[encoded data removed]",
            "text/plain": [
              "<Figure size 432x288 with 1 Axes>"
            ]
          },
          "metadata": {
            "tags": [],
            "needs_background": "light"
          }
        }
      ]
    },
    {
      "cell_type": "code",
      "metadata": {
        "colab": {
          "base_uri": "https://localhost:8080/",
          "height": 296
        },
        "id": "AzAhhEz4QiNO",
        "outputId": "ee90f91a-737b-48cd-e05a-d3b4f801ef4a"
      },
      "source": [
        "# plot more data\n",
        "sns.scatterplot(data=train_dataset.sample(frac=0.01, random_state=1), x=\"windspeed\", y=\"registered\")"
      ],
      "execution_count": 99,
      "outputs": [
        {
          "output_type": "execute_result",
          "data": {
            "text/plain": [
              "<matplotlib.axes._subplots.AxesSubplot at 0x7f6e818a4cc0>"
            ]
          },
          "metadata": {
            "tags": []
          },
          "execution_count": 99
        },
        {
          "output_type": "display_data",
          "data": {
            "image/png": "[encoded data removed]",
            "text/plain": [
              "<Figure size 432x288 with 1 Axes>"
            ]
          },
          "metadata": {
            "tags": [],
            "needs_background": "light"
          }
        }
      ]
    },
    {
      "cell_type": "code",
      "metadata": {
        "id": "t52KyQw55ZMd"
      },
      "source": [
        "# split features from labels\n",
        "train_features = train_dataset.copy()\n",
        "test_features = test_dataset.copy()\n",
        "\n",
        "train_labels = train_features.pop('registered')\n",
        "test_labels = test_features.pop('registered')"
      ],
      "execution_count": null,
      "outputs": []
    },
    {
      "cell_type": "code",
      "metadata": {
        "id": "QeTcTIyipLC-"
      },
      "source": [
        "# build the normalizer\n",
        "normalizer = Normalization()\n",
        "normalizer.adapt(np.array(train_features))\n"
      ],
      "execution_count": null,
      "outputs": []
    },
    {
      "cell_type": "code",
      "metadata": {
        "id": "MRGuyC8opLC-",
        "colab": {
          "base_uri": "https://localhost:8080/"
        },
        "outputId": "3ef28f41-42f8-4f27-a417-41d32e9606ee"
      },
      "source": [
        "# build the model\n",
        "def model_builder():\n",
        "  model = tf.keras.Sequential()\n",
        "  model.add(normalizer)\n",
        "  model.add(Dense(256, activation=\"relu\", kernel_regularizer=regularizers.l2(0.0001)))\n",
        "  model.add(Dropout(0.18))\n",
        "  model.add(Dense(256, activation=\"relu\", kernel_regularizer=regularizers.l2(0.0001)))\n",
        "  model.add(Dropout(0.18))\n",
        "  model.add(Dense(256, activation=\"relu\", kernel_regularizer=regularizers.l2(0.0001)))\n",
        "  model.add(Dropout(0.18))\n",
        "  model.add(Dense(256, activation=\"relu\", kernel_regularizer=regularizers.l2(0.0001)))\n",
        "  model.add(Dropout(0.18))\n",
        "  model.add(Dense(256, activation=\"relu\", kernel_regularizer=regularizers.l2(0.0001)))\n",
        "  model.add(Dropout(0.18))\n",
        "  model.add(Dense(256, activation=\"relu\", kernel_regularizer=regularizers.l2(0.0001)))\n",
        "  model.add(Dropout(0.18))\n",
        "  model.add(Dense(1))\n",
        "  model.compile(loss=root_mean_squared_error,\n",
        "                optimizer=tf.keras.optimizers.Adam(0.001))\n",
        "  return model\n",
        "\n",
        "\n",
        "model = model_builder()\n",
        "model.summary()"
      ],
      "execution_count": 144,
      "outputs": [
        {
          "output_type": "stream",
          "text": [
            "Model: \"sequential_15\"\n",
            "_________________________________________________________________\n",
            "Layer (type)                 Output Shape              Param #   \n",
            "=================================================================\n",
            "normalization_3 (Normalizati (None, 16)                33        \n",
            "_________________________________________________________________\n",
            "dense_94 (Dense)             (None, 256)               4352      \n",
            "_________________________________________________________________\n",
            "dropout_82 (Dropout)         (None, 256)               0         \n",
            "_________________________________________________________________\n",
            "dense_95 (Dense)             (None, 256)               65792     \n",
            "_________________________________________________________________\n",
            "dropout_83 (Dropout)         (None, 256)               0         \n",
            "_________________________________________________________________\n",
            "dense_96 (Dense)             (None, 256)               65792     \n",
            "_________________________________________________________________\n",
            "dropout_84 (Dropout)         (None, 256)               0         \n",
            "_________________________________________________________________\n",
            "dense_97 (Dense)             (None, 256)               65792     \n",
            "_________________________________________________________________\n",
            "dropout_85 (Dropout)         (None, 256)               0         \n",
            "_________________________________________________________________\n",
            "dense_98 (Dense)             (None, 256)               65792     \n",
            "_________________________________________________________________\n",
            "dropout_86 (Dropout)         (None, 256)               0         \n",
            "_________________________________________________________________\n",
            "dense_99 (Dense)             (None, 256)               65792     \n",
            "_________________________________________________________________\n",
            "dropout_87 (Dropout)         (None, 256)               0         \n",
            "_________________________________________________________________\n",
            "dense_100 (Dense)            (None, 1)                 257       \n",
            "=================================================================\n",
            "Total params: 333,602\n",
            "Trainable params: 333,569\n",
            "Non-trainable params: 33\n",
            "_________________________________________________________________\n"
          ],
          "name": "stdout"
        }
      ]
    },
    {
      "cell_type": "code",
      "metadata": {
        "colab": {
          "base_uri": "https://localhost:8080/"
        },
        "id": "xqeLhHkK0Y72",
        "outputId": "b50cecd4-3d9a-4676-e971-b67a73aa1fc4"
      },
      "source": [
        "# train the model\n",
        "trained = model.fit(train_features, train_labels, validation_split=0.2, epochs=116)"
      ],
      "execution_count": 145,
      "outputs": [
        {
          "output_type": "stream",
          "text": [
            "Epoch 1/116\n",
            "348/348 [==============================] - 1s 4ms/step - loss: 78.2936 - val_loss: 72.3206\n",
            "Epoch 2/116\n",
            "348/348 [==============================] - 1s 3ms/step - loss: 67.0508 - val_loss: 69.0089\n",
            "Epoch 3/116\n",
            "348/348 [==============================] - 1s 3ms/step - loss: 62.2916 - val_loss: 57.0513\n",
            "Epoch 4/116\n",
            "348/348 [==============================] - 1s 3ms/step - loss: 59.2029 - val_loss: 55.4822\n",
            "Epoch 5/116\n",
            "348/348 [==============================] - 1s 4ms/step - loss: 55.7488 - val_loss: 53.2674\n",
            "Epoch 6/116\n",
            "348/348 [==============================] - 1s 3ms/step - loss: 53.0718 - val_loss: 47.5600\n",
            "Epoch 7/116\n",
            "348/348 [==============================] - 1s 3ms/step - loss: 51.1362 - val_loss: 49.1026\n",
            "Epoch 8/116\n",
            "348/348 [==============================] - 1s 4ms/step - loss: 49.6288 - val_loss: 49.3462\n",
            "Epoch 9/116\n",
            "348/348 [==============================] - 1s 4ms/step - loss: 48.8821 - val_loss: 45.9132\n",
            "Epoch 10/116\n",
            "348/348 [==============================] - 1s 3ms/step - loss: 47.2154 - val_loss: 44.9538\n",
            "Epoch 11/116\n",
            "348/348 [==============================] - 1s 3ms/step - loss: 46.7053 - val_loss: 44.9521\n",
            "Epoch 12/116\n",
            "348/348 [==============================] - 1s 3ms/step - loss: 45.4193 - val_loss: 44.0124\n",
            "Epoch 13/116\n",
            "348/348 [==============================] - 1s 4ms/step - loss: 44.7056 - val_loss: 42.3807\n",
            "Epoch 14/116\n",
            "348/348 [==============================] - 1s 3ms/step - loss: 44.2896 - val_loss: 44.5536\n",
            "Epoch 15/116\n",
            "348/348 [==============================] - 1s 4ms/step - loss: 44.5018 - val_loss: 41.1389\n",
            "Epoch 16/116\n",
            "348/348 [==============================] - 1s 4ms/step - loss: 43.0358 - val_loss: 41.5684\n",
            "Epoch 17/116\n",
            "348/348 [==============================] - 1s 4ms/step - loss: 43.4184 - val_loss: 39.2399\n",
            "Epoch 18/116\n",
            "348/348 [==============================] - 1s 4ms/step - loss: 42.5361 - val_loss: 43.4953\n",
            "Epoch 19/116\n",
            "348/348 [==============================] - 1s 4ms/step - loss: 42.5142 - val_loss: 42.7608\n",
            "Epoch 20/116\n",
            "348/348 [==============================] - 1s 3ms/step - loss: 42.5364 - val_loss: 41.4508\n",
            "Epoch 21/116\n",
            "348/348 [==============================] - 1s 3ms/step - loss: 41.8621 - val_loss: 41.2847\n",
            "Epoch 22/116\n",
            "348/348 [==============================] - 1s 3ms/step - loss: 41.7514 - val_loss: 41.7736\n",
            "Epoch 23/116\n",
            "348/348 [==============================] - 1s 4ms/step - loss: 41.9760 - val_loss: 38.9407\n",
            "Epoch 24/116\n",
            "348/348 [==============================] - 1s 3ms/step - loss: 41.6071 - val_loss: 40.3182\n",
            "Epoch 25/116\n",
            "348/348 [==============================] - 1s 3ms/step - loss: 41.1925 - val_loss: 40.5237\n",
            "Epoch 26/116\n",
            "348/348 [==============================] - 1s 3ms/step - loss: 41.2864 - val_loss: 39.3326\n",
            "Epoch 27/116\n",
            "348/348 [==============================] - 1s 3ms/step - loss: 40.5324 - val_loss: 38.5202\n",
            "Epoch 28/116\n",
            "348/348 [==============================] - 1s 3ms/step - loss: 40.2984 - val_loss: 42.3654\n",
            "Epoch 29/116\n",
            "348/348 [==============================] - 1s 3ms/step - loss: 40.0518 - val_loss: 41.4029\n",
            "Epoch 30/116\n",
            "348/348 [==============================] - 1s 3ms/step - loss: 40.3626 - val_loss: 37.5697\n",
            "Epoch 31/116\n",
            "348/348 [==============================] - 1s 3ms/step - loss: 39.7070 - val_loss: 39.5547\n",
            "Epoch 32/116\n",
            "348/348 [==============================] - 1s 3ms/step - loss: 39.7391 - val_loss: 40.9872\n",
            "Epoch 33/116\n",
            "348/348 [==============================] - 1s 3ms/step - loss: 40.0145 - val_loss: 38.6292\n",
            "Epoch 34/116\n",
            "348/348 [==============================] - 1s 3ms/step - loss: 40.1532 - val_loss: 39.5248\n",
            "Epoch 35/116\n",
            "348/348 [==============================] - 1s 3ms/step - loss: 39.3472 - val_loss: 37.3029\n",
            "Epoch 36/116\n",
            "348/348 [==============================] - 1s 3ms/step - loss: 39.0529 - val_loss: 38.2470\n",
            "Epoch 37/116\n",
            "348/348 [==============================] - 1s 3ms/step - loss: 39.1931 - val_loss: 40.2939\n",
            "Epoch 38/116\n",
            "348/348 [==============================] - 1s 4ms/step - loss: 39.6453 - val_loss: 39.7994\n",
            "Epoch 39/116\n",
            "348/348 [==============================] - 1s 3ms/step - loss: 39.4868 - val_loss: 38.4870\n",
            "Epoch 40/116\n",
            "348/348 [==============================] - 1s 3ms/step - loss: 39.8785 - val_loss: 39.3329\n",
            "Epoch 41/116\n",
            "348/348 [==============================] - 1s 3ms/step - loss: 39.0714 - val_loss: 38.7677\n",
            "Epoch 42/116\n",
            "348/348 [==============================] - 1s 3ms/step - loss: 39.0995 - val_loss: 39.0490\n",
            "Epoch 43/116\n",
            "348/348 [==============================] - 1s 4ms/step - loss: 38.5728 - val_loss: 39.8663\n",
            "Epoch 44/116\n",
            "348/348 [==============================] - 1s 3ms/step - loss: 38.8276 - val_loss: 39.5199\n",
            "Epoch 45/116\n",
            "348/348 [==============================] - 1s 3ms/step - loss: 38.7103 - val_loss: 38.2712\n",
            "Epoch 46/116\n",
            "348/348 [==============================] - 1s 4ms/step - loss: 38.6679 - val_loss: 37.3541\n",
            "Epoch 47/116\n",
            "348/348 [==============================] - 1s 4ms/step - loss: 38.6846 - val_loss: 38.9068\n",
            "Epoch 48/116\n",
            "348/348 [==============================] - 1s 3ms/step - loss: 38.0768 - val_loss: 39.5470\n",
            "Epoch 49/116\n",
            "348/348 [==============================] - 1s 4ms/step - loss: 38.1066 - val_loss: 39.0117\n",
            "Epoch 50/116\n",
            "348/348 [==============================] - 1s 3ms/step - loss: 37.7587 - val_loss: 37.9337\n",
            "Epoch 51/116\n",
            "348/348 [==============================] - 1s 4ms/step - loss: 37.9060 - val_loss: 38.5619\n",
            "Epoch 52/116\n",
            "348/348 [==============================] - 1s 3ms/step - loss: 38.3513 - val_loss: 38.1867\n",
            "Epoch 53/116\n",
            "348/348 [==============================] - 1s 4ms/step - loss: 37.7055 - val_loss: 38.4510\n",
            "Epoch 54/116\n",
            "348/348 [==============================] - 1s 4ms/step - loss: 37.6021 - val_loss: 40.2351\n",
            "Epoch 55/116\n",
            "348/348 [==============================] - 1s 4ms/step - loss: 37.6998 - val_loss: 37.6979\n",
            "Epoch 56/116\n",
            "348/348 [==============================] - 1s 3ms/step - loss: 37.2168 - val_loss: 38.9336\n",
            "Epoch 57/116\n",
            "348/348 [==============================] - 1s 4ms/step - loss: 36.7477 - val_loss: 37.6803\n",
            "Epoch 58/116\n",
            "348/348 [==============================] - 1s 3ms/step - loss: 37.0484 - val_loss: 39.3718\n",
            "Epoch 59/116\n",
            "348/348 [==============================] - 1s 3ms/step - loss: 37.4416 - val_loss: 37.3260\n",
            "Epoch 60/116\n",
            "348/348 [==============================] - 1s 3ms/step - loss: 37.6213 - val_loss: 39.4752\n",
            "Epoch 61/116\n",
            "348/348 [==============================] - 1s 3ms/step - loss: 37.1307 - val_loss: 38.2850\n",
            "Epoch 62/116\n",
            "348/348 [==============================] - 1s 3ms/step - loss: 37.4449 - val_loss: 38.1337\n",
            "Epoch 63/116\n",
            "348/348 [==============================] - 1s 3ms/step - loss: 37.0766 - val_loss: 39.3790\n",
            "Epoch 64/116\n",
            "348/348 [==============================] - 1s 3ms/step - loss: 37.4720 - val_loss: 38.0913\n",
            "Epoch 65/116\n",
            "348/348 [==============================] - 1s 3ms/step - loss: 37.0737 - val_loss: 37.8550\n",
            "Epoch 66/116\n",
            "348/348 [==============================] - 1s 3ms/step - loss: 36.6527 - val_loss: 37.1071\n",
            "Epoch 67/116\n",
            "348/348 [==============================] - 1s 3ms/step - loss: 36.3911 - val_loss: 37.3148\n",
            "Epoch 68/116\n",
            "348/348 [==============================] - 1s 4ms/step - loss: 36.5216 - val_loss: 36.8360\n",
            "Epoch 69/116\n",
            "348/348 [==============================] - 1s 4ms/step - loss: 36.8197 - val_loss: 38.4684\n",
            "Epoch 70/116\n",
            "348/348 [==============================] - 1s 3ms/step - loss: 36.3992 - val_loss: 38.4683\n",
            "Epoch 71/116\n",
            "348/348 [==============================] - 1s 3ms/step - loss: 36.7835 - val_loss: 36.9637\n",
            "Epoch 72/116\n",
            "348/348 [==============================] - 1s 3ms/step - loss: 36.4131 - val_loss: 36.3069\n",
            "Epoch 73/116\n",
            "348/348 [==============================] - 1s 3ms/step - loss: 35.8970 - val_loss: 37.4676\n",
            "Epoch 74/116\n",
            "348/348 [==============================] - 1s 4ms/step - loss: 36.3884 - val_loss: 37.4809\n",
            "Epoch 75/116\n",
            "348/348 [==============================] - 1s 3ms/step - loss: 36.0732 - val_loss: 38.1487\n",
            "Epoch 76/116\n",
            "348/348 [==============================] - 1s 3ms/step - loss: 36.3528 - val_loss: 41.5577\n",
            "Epoch 77/116\n",
            "348/348 [==============================] - 1s 3ms/step - loss: 36.1451 - val_loss: 37.3840\n",
            "Epoch 78/116\n",
            "348/348 [==============================] - 1s 3ms/step - loss: 36.2095 - val_loss: 36.7449\n",
            "Epoch 79/116\n",
            "348/348 [==============================] - 1s 3ms/step - loss: 36.1939 - val_loss: 36.7167\n",
            "Epoch 80/116\n",
            "348/348 [==============================] - 1s 3ms/step - loss: 36.0714 - val_loss: 37.2460\n",
            "Epoch 81/116\n",
            "348/348 [==============================] - 1s 3ms/step - loss: 35.6689 - val_loss: 36.7810\n",
            "Epoch 82/116\n",
            "348/348 [==============================] - 1s 3ms/step - loss: 36.3429 - val_loss: 39.2441\n",
            "Epoch 83/116\n",
            "348/348 [==============================] - 1s 3ms/step - loss: 35.5475 - val_loss: 37.0976\n",
            "Epoch 84/116\n",
            "348/348 [==============================] - 1s 3ms/step - loss: 35.9194 - val_loss: 36.8145\n",
            "Epoch 85/116\n",
            "348/348 [==============================] - 1s 3ms/step - loss: 35.7584 - val_loss: 36.5882\n",
            "Epoch 86/116\n",
            "348/348 [==============================] - 1s 4ms/step - loss: 35.6058 - val_loss: 38.7651\n",
            "Epoch 87/116\n",
            "348/348 [==============================] - 1s 3ms/step - loss: 35.1235 - val_loss: 39.6730\n",
            "Epoch 88/116\n",
            "348/348 [==============================] - 1s 3ms/step - loss: 35.4432 - val_loss: 38.6204\n",
            "Epoch 89/116\n",
            "348/348 [==============================] - 1s 3ms/step - loss: 35.8213 - val_loss: 37.3390\n",
            "Epoch 90/116\n",
            "348/348 [==============================] - 1s 3ms/step - loss: 35.3844 - val_loss: 37.0676\n",
            "Epoch 91/116\n",
            "348/348 [==============================] - 1s 3ms/step - loss: 34.8445 - val_loss: 37.0229\n",
            "Epoch 92/116\n",
            "348/348 [==============================] - 1s 3ms/step - loss: 35.0416 - val_loss: 36.6324\n",
            "Epoch 93/116\n",
            "348/348 [==============================] - 1s 3ms/step - loss: 35.3904 - val_loss: 37.7507\n",
            "Epoch 94/116\n",
            "348/348 [==============================] - 1s 3ms/step - loss: 35.3856 - val_loss: 38.4732\n",
            "Epoch 95/116\n",
            "348/348 [==============================] - 1s 3ms/step - loss: 35.4619 - val_loss: 36.8320\n",
            "Epoch 96/116\n",
            "348/348 [==============================] - 1s 3ms/step - loss: 35.4388 - val_loss: 36.1492\n",
            "Epoch 97/116\n",
            "348/348 [==============================] - 1s 3ms/step - loss: 35.1825 - val_loss: 36.9924\n",
            "Epoch 98/116\n",
            "348/348 [==============================] - 1s 3ms/step - loss: 34.9424 - val_loss: 37.9769\n",
            "Epoch 99/116\n",
            "348/348 [==============================] - 1s 3ms/step - loss: 34.8954 - val_loss: 36.5305\n",
            "Epoch 100/116\n",
            "348/348 [==============================] - 1s 3ms/step - loss: 34.6836 - val_loss: 36.1124\n",
            "Epoch 101/116\n",
            "348/348 [==============================] - 1s 3ms/step - loss: 35.2374 - val_loss: 37.4640\n",
            "Epoch 102/116\n",
            "348/348 [==============================] - 1s 3ms/step - loss: 35.1212 - val_loss: 38.2234\n",
            "Epoch 103/116\n",
            "348/348 [==============================] - 1s 4ms/step - loss: 35.1362 - val_loss: 36.6267\n",
            "Epoch 104/116\n",
            "348/348 [==============================] - 1s 3ms/step - loss: 34.5053 - val_loss: 37.1855\n",
            "Epoch 105/116\n",
            "348/348 [==============================] - 1s 3ms/step - loss: 34.6020 - val_loss: 38.0798\n",
            "Epoch 106/116\n",
            "348/348 [==============================] - 1s 4ms/step - loss: 34.5659 - val_loss: 36.6019\n",
            "Epoch 107/116\n",
            "348/348 [==============================] - 1s 4ms/step - loss: 34.6363 - val_loss: 37.5152\n",
            "Epoch 108/116\n",
            "348/348 [==============================] - 1s 3ms/step - loss: 34.2982 - val_loss: 36.4895\n",
            "Epoch 109/116\n",
            "348/348 [==============================] - 1s 3ms/step - loss: 34.3971 - val_loss: 38.5732\n",
            "Epoch 110/116\n",
            "348/348 [==============================] - 1s 3ms/step - loss: 34.8362 - val_loss: 38.0109\n",
            "Epoch 111/116\n",
            "348/348 [==============================] - 1s 4ms/step - loss: 34.6885 - val_loss: 37.0587\n",
            "Epoch 112/116\n",
            "348/348 [==============================] - 1s 3ms/step - loss: 34.1392 - val_loss: 39.6730\n",
            "Epoch 113/116\n",
            "348/348 [==============================] - 1s 3ms/step - loss: 34.2934 - val_loss: 36.5530\n",
            "Epoch 114/116\n",
            "348/348 [==============================] - 1s 3ms/step - loss: 34.2987 - val_loss: 37.2784\n",
            "Epoch 115/116\n",
            "348/348 [==============================] - 1s 3ms/step - loss: 34.2567 - val_loss: 37.2451\n",
            "Epoch 116/116\n",
            "348/348 [==============================] - 1s 3ms/step - loss: 34.0292 - val_loss: 37.0571\n"
          ],
          "name": "stdout"
        }
      ]
    },
    {
      "cell_type": "code",
      "metadata": {
        "colab": {
          "base_uri": "https://localhost:8080/",
          "height": 279
        },
        "id": "G4pSkidLBLpv",
        "outputId": "c329929e-3b6c-4892-a408-9d1b219493fd"
      },
      "source": [
        "# define a function to plot the loss\n",
        "def plot_loss(history):\n",
        "  plt.plot(history.history['loss'], label='loss')\n",
        "  plt.plot(history.history['val_loss'], label='val_loss')\n",
        "  plt.ylim([0, 75])\n",
        "  plt.xlabel('Epoch')\n",
        "  plt.ylabel('Error [registered]')\n",
        "  plt.legend()\n",
        "  plt.grid(True)\n",
        "\n",
        "\n",
        "plot_loss(trained)"
      ],
      "execution_count": 146,
      "outputs": [
        {
          "output_type": "display_data",
          "data": {
            "image/png": "[encoded data removed]",
            "text/plain": [
              "<Figure size 432x288 with 1 Axes>"
            ]
          },
          "metadata": {
            "tags": [],
            "needs_background": "light"
          }
        }
      ]
    },
    {
      "cell_type": "code",
      "metadata": {
        "id": "mAuuHaSrKu1F"
      },
      "source": [
        "! mkdir -p saved_model"
      ],
      "execution_count": 116,
      "outputs": []
    },
    {
      "cell_type": "code",
      "metadata": {
        "id": "RUcrLDdTKxA-",
        "colab": {
          "base_uri": "https://localhost:8080/",
          "height": 34
        },
        "outputId": "607c9682-d94e-4a0e-9ef7-c468f837e0a8"
      },
      "source": [
        "model.save('saved_model/model')\n",
        "files.download('saved_model/model')"
      ],
      "execution_count": 140,
      "outputs": [
        {
          "output_type": "stream",
          "text": [
            "INFO:tensorflow:Assets written to: saved_model/model/assets\n"
          ],
          "name": "stdout"
        },
        {
          "output_type": "display_data",
          "data": {
            "application/javascript": [
              "\n",
              "    async function download(id, filename, size) {\n",
              "      if (!google.colab.kernel.accessAllowed) {\n",
              "        return;\n",
              "      }\n",
              "      const div = document.createElement('div');\n",
              "      const label = document.createElement('label');\n",
              "      label.textContent = `Downloading \"${filename}\": `;\n",
              "      div.appendChild(label);\n",
              "      const progress = document.createElement('progress');\n",
              "      progress.max = size;\n",
              "      div.appendChild(progress);\n",
              "      document.body.appendChild(div);\n",
              "\n",
              "      const buffers = [];\n",
              "      let downloaded = 0;\n",
              "\n",
              "      const channel = await google.colab.kernel.comms.open(id);\n",
              "      // Send a message to notify the kernel that we're ready.\n",
              "      channel.send({})\n",
              "\n",
              "      for await (const message of channel.messages) {\n",
              "        // Send a message to notify the kernel that we're ready.\n",
              "        channel.send({})\n",
              "        if (message.buffers) {\n",
              "          for (const buffer of message.buffers) {\n",
              "            buffers.push(buffer);\n",
              "            downloaded += buffer.byteLength;\n",
              "            progress.value = downloaded;\n",
              "          }\n",
              "        }\n",
              "      }\n",
              "      const blob = new Blob(buffers, {type: 'application/binary'});\n",
              "      const a = document.createElement('a');\n",
              "      a.href = window.URL.createObjectURL(blob);\n",
              "      a.download = filename;\n",
              "      div.appendChild(a);\n",
              "      a.click();\n",
              "      div.remove();\n",
              "    }\n",
              "  "
            ],
            "text/plain": [
              "<IPython.core.display.Javascript object>"
            ]
          },
          "metadata": {
            "tags": []
          }
        },
        {
          "output_type": "display_data",
          "data": {
            "application/javascript": [
              "download(\"download_a4621139-3edd-4cb1-a7a0-a6ed6d6d82d0\", \"model\", 4096)"
            ],
            "text/plain": [
              "<IPython.core.display.Javascript object>"
            ]
          },
          "metadata": {
            "tags": []
          }
        }
      ]
    },
    {
      "cell_type": "code",
      "metadata": {
        "id": "8Gn9ur7ApLC_",
        "colab": {
          "base_uri": "https://localhost:8080/"
        },
        "outputId": "9f9eedb2-b797-4035-c25a-bda816e672a0"
      },
      "source": [
        "# test the model\n",
        "test_result = model.evaluate(test_features, test_labels)\n",
        "test_result"
      ],
      "execution_count": 147,
      "outputs": [
        {
          "output_type": "stream",
          "text": [
            "109/109 [==============================] - 0s 2ms/step - loss: 35.1376\n"
          ],
          "name": "stdout"
        },
        {
          "output_type": "execute_result",
          "data": {
            "text/plain": [
              "35.137630462646484"
            ]
          },
          "metadata": {
            "tags": []
          },
          "execution_count": 147
        }
      ]
    },
    {
      "cell_type": "code",
      "metadata": {
        "colab": {
          "base_uri": "https://localhost:8080/",
          "height": 283
        },
        "id": "jBs5FuH7SLln",
        "outputId": "4773ec1a-e2ab-44a1-9491-d42cfccc6163"
      },
      "source": [
        "# plot the prediction line vs actual points\n",
        "test_predictions = model.predict(test_features).flatten()\n",
        "\n",
        "a = plt.axes(aspect='equal')\n",
        "plt.scatter(test_labels, test_predictions)\n",
        "plt.xlabel('True Values [registered bikes]')\n",
        "plt.ylabel('Predictions [registered bikes]')\n",
        "lims = [0, 900]\n",
        "plt.xlim(lims)\n",
        "plt.ylim(lims)\n",
        "_ = plt.plot(lims, lims)"
      ],
      "execution_count": 148,
      "outputs": [
        {
          "output_type": "display_data",
          "data": {
            "image/png": "[encoded data removed]",
            "text/plain": [
              "<Figure size 432x288 with 1 Axes>"
            ]
          },
          "metadata": {
            "tags": [],
            "needs_background": "light"
          }
        }
      ]
    },
    {
      "cell_type": "code",
      "metadata": {
        "colab": {
          "base_uri": "https://localhost:8080/",
          "height": 279
        },
        "id": "Pd4_9-mPTGgR",
        "outputId": "477d176f-fa54-413b-fc97-1f79f1b45f76"
      },
      "source": [
        "# plot the error distribution\n",
        "\n",
        "error = test_predictions - test_labels\n",
        "plt.hist(error, bins=25)\n",
        "plt.xlabel('Prediction Error [registered bikes]')\n",
        "_ = plt.ylabel('Count')"
      ],
      "execution_count": 143,
      "outputs": [
        {
          "output_type": "display_data",
          "data": {
            "image/png": "[encoded data removed]",
            "text/plain": [
              "<Figure size 432x288 with 1 Axes>"
            ]
          },
          "metadata": {
            "tags": [],
            "needs_background": "light"
          }
        }
      ]
    }
  ]
}