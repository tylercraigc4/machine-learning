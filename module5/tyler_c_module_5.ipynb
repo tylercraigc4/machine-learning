{
 "metadata": {
  "language_info": {
   "codemirror_mode": {
    "name": "ipython",
    "version": 3
   },
   "file_extension": ".py",
   "mimetype": "text/x-python",
   "name": "python",
   "nbconvert_exporter": "python",
   "pygments_lexer": "ipython3",
   "version": "3.7.4-final"
  },
  "orig_nbformat": 2,
  "kernelspec": {
   "name": "pycharm-de476777",
   "language": "python",
   "display_name": "PyCharm (machine_learning_class)"
  }
 },
 "nbformat": 4,
 "nbformat_minor": 2,
 "cells": [
  {
   "cell_type": "code",
   "execution_count": 4,
   "metadata": {},
   "outputs": [],
   "source": [
    "import pandas as pd\n",
    "from sklearn.model_selection import train_test_split\n",
    "import tensorflow as tf"
   ]
  },
  {
   "cell_type": "code",
   "execution_count": 2,
   "metadata": {},
   "outputs": [],
   "source": [
    "bike_data = pd.read_csv(\"https://raw.githubusercontent.com/byui-cse/cse450-course/master/data/bikes.csv\")"
   ]
  },
  {
   "cell_type": "code",
   "execution_count": 15,
   "metadata": {
    "pycharm": {
     "name": "#%%\n"
    }
   },
   "outputs": [
    {
     "data": {
      "text/plain": "   Unnamed: 0  instant  dteday  season  hr  holiday  workingday  weathersit  \\\n0           0        1  1/1/11       1   0        0           0           1   \n1           1        2  1/1/11       1   1        0           0           1   \n2           2        3  1/1/11       1   2        0           0           1   \n3           3        4  1/1/11       1   3        0           0           1   \n4           4        5  1/1/11       1   4        0           0           1   \n\n    hum  windspeed  temp_c  feels_like_c  casual  registered  \n0  0.81          0    3.28        3.0014       3          13  \n1  0.80          0    2.34        1.9982       8          32  \n2  0.80          0    2.34        1.9982       5          27  \n3  0.75          0    3.28        3.0014       3          10  \n4  0.75          0    3.28        3.0014       0           1  ",
      "text/html": "<div>\n<style scoped>\n    .dataframe tbody tr th:only-of-type {\n        vertical-align: middle;\n    }\n\n    .dataframe tbody tr th {\n        vertical-align: top;\n    }\n\n    .dataframe thead th {\n        text-align: right;\n    }\n</style>\n<table border=\"1\" class=\"dataframe\">\n  <thead>\n    <tr style=\"text-align: right;\">\n      <th></th>\n      <th>Unnamed: 0</th>\n      <th>instant</th>\n      <th>dteday</th>\n      <th>season</th>\n      <th>hr</th>\n      <th>holiday</th>\n      <th>workingday</th>\n      <th>weathersit</th>\n      <th>hum</th>\n      <th>windspeed</th>\n      <th>temp_c</th>\n      <th>feels_like_c</th>\n      <th>casual</th>\n      <th>registered</th>\n    </tr>\n  </thead>\n  <tbody>\n    <tr>\n      <th>0</th>\n      <td>0</td>\n      <td>1</td>\n      <td>1/1/11</td>\n      <td>1</td>\n      <td>0</td>\n      <td>0</td>\n      <td>0</td>\n      <td>1</td>\n      <td>0.81</td>\n      <td>0</td>\n      <td>3.28</td>\n      <td>3.0014</td>\n      <td>3</td>\n      <td>13</td>\n    </tr>\n    <tr>\n      <th>1</th>\n      <td>1</td>\n      <td>2</td>\n      <td>1/1/11</td>\n      <td>1</td>\n      <td>1</td>\n      <td>0</td>\n      <td>0</td>\n      <td>1</td>\n      <td>0.80</td>\n      <td>0</td>\n      <td>2.34</td>\n      <td>1.9982</td>\n      <td>8</td>\n      <td>32</td>\n    </tr>\n    <tr>\n      <th>2</th>\n      <td>2</td>\n      <td>3</td>\n      <td>1/1/11</td>\n      <td>1</td>\n      <td>2</td>\n      <td>0</td>\n      <td>0</td>\n      <td>1</td>\n      <td>0.80</td>\n      <td>0</td>\n      <td>2.34</td>\n      <td>1.9982</td>\n      <td>5</td>\n      <td>27</td>\n    </tr>\n    <tr>\n      <th>3</th>\n      <td>3</td>\n      <td>4</td>\n      <td>1/1/11</td>\n      <td>1</td>\n      <td>3</td>\n      <td>0</td>\n      <td>0</td>\n      <td>1</td>\n      <td>0.75</td>\n      <td>0</td>\n      <td>3.28</td>\n      <td>3.0014</td>\n      <td>3</td>\n      <td>10</td>\n    </tr>\n    <tr>\n      <th>4</th>\n      <td>4</td>\n      <td>5</td>\n      <td>1/1/11</td>\n      <td>1</td>\n      <td>4</td>\n      <td>0</td>\n      <td>0</td>\n      <td>1</td>\n      <td>0.75</td>\n      <td>0</td>\n      <td>3.28</td>\n      <td>3.0014</td>\n      <td>0</td>\n      <td>1</td>\n    </tr>\n  </tbody>\n</table>\n</div>"
     },
     "execution_count": 15,
     "metadata": {},
     "output_type": "execute_result"
    }
   ],
   "source": [
    "bike_data.head()\n",
    "\n"
   ]
  }
 ]
}